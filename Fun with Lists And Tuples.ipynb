{
 "cells": [
  {
   "cell_type": "code",
   "execution_count": 7,
   "source": [
    "a=[(2, 5), (1, 2), (4, 4), (2, 3), (2, 1)]\r\n",
    "print(\"List Before Sorting= \")\r\n",
    "print(a)\r\n",
    "for j in range(1,len(a)):\r\n",
    "    for i in range(len(a)-j):\r\n",
    "        if a[i][1]>a[i+1][1] :\r\n",
    "            temp=a[i]\r\n",
    "            a[i]=a[i+1]\r\n",
    "            a[i+1]=temp\r\n",
    "print(\"After Sorting=\")\r\n",
    "for i in range(len(a)):\r\n",
    "    print(a[i],end=\"\\t\")"
   ],
   "outputs": [
    {
     "output_type": "stream",
     "name": "stdout",
     "text": [
      "List Before Sorting= \n",
      "[(2, 5), (1, 2), (4, 4), (2, 3), (2, 1)]\n",
      "After Sorting=\n",
      "(2, 1)\t(1, 2)\t(2, 3)\t(4, 4)\t(2, 5)\t"
     ]
    }
   ],
   "metadata": {}
  },
  {
   "cell_type": "code",
   "execution_count": null,
   "source": [],
   "outputs": [],
   "metadata": {}
  }
 ],
 "metadata": {
  "orig_nbformat": 4,
  "language_info": {
   "name": "python",
   "version": "3.8.1",
   "mimetype": "text/x-python",
   "codemirror_mode": {
    "name": "ipython",
    "version": 3
   },
   "pygments_lexer": "ipython3",
   "nbconvert_exporter": "python",
   "file_extension": ".py"
  },
  "kernelspec": {
   "name": "python3",
   "display_name": "Python 3.8.1 64-bit"
  },
  "interpreter": {
   "hash": "29e6d1060ede53ce783d69865c8c2e474108ab7d7dd3da07cff74dca89764789"
  }
 },
 "nbformat": 4,
 "nbformat_minor": 2
}